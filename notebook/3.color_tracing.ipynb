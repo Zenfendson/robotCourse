{
 "cells": [
  {
   "cell_type": "markdown",
   "metadata": {},
   "source": [
    "# 颜色识别追逐小车\n",
    "\n",
    "本notebook实现了一个追逐一个红色物体的小车。图像处理使用了PL部分由HLS编写的的color_detect模块，它返回物体的坐标。这个notebook将演示如何将图像处理和运动控制相结合。"
   ]
  },
  {
   "cell_type": "markdown",
   "metadata": {},
   "source": [
    "## 导入所需文件并对PL编程"
   ]
  },
  {
   "cell_type": "code",
   "execution_count": 1,
   "metadata": {},
   "outputs": [
    {
     "data": {
      "application/javascript": [
       "\n",
       "require(['notebook/js/codecell'], function(codecell) {\n",
       "  codecell.CodeCell.options_default.highlight_modes[\n",
       "      'magic_text/x-csrc'] = {'reg':[/^%%microblaze/]};\n",
       "  Jupyter.notebook.events.one('kernel_ready.Kernel', function(){\n",
       "      Jupyter.notebook.get_cells().map(function(cell){\n",
       "          if (cell.cell_type == 'code'){ cell.auto_highlight(); } }) ;\n",
       "  });\n",
       "});\n"
      ]
     },
     "metadata": {},
     "output_type": "display_data"
    }
   ],
   "source": [
    "import numpy as np\n",
    "from PYNQ_Car.CarOverlay.CarOverlay import CarOverlay\n",
    "from pynq import GPIO\n",
    "from PIL import Image\n",
    "import IPython\n",
    "import time\n",
    "from pynq.xlnk import Xlnk\n",
    "from pynq.lib.video.common import VideoMode\n",
    "import cv2\n",
    "xlnk = Xlnk()\n",
    "overlay = CarOverlay('/usr/local/lib/python3.6/dist-packages/PYNQ_Car/Overlay/Car.bit')"
   ]
  },
  {
   "cell_type": "markdown",
   "metadata": {},
   "source": [
    "## 初始化microblaze"
   ]
  },
  {
   "cell_type": "code",
   "execution_count": 2,
   "metadata": {},
   "outputs": [],
   "source": [
    "arduino = overlay.Arduino\n",
    "arduino.load('bimotor')\n",
    "arduino.set_iic_pins('SDA','SCL') #SDA  SCL\n",
    "arduino.set_motor_pins('D11','D5','D6','D3')\n",
    "arduino.set_servo_pin('D9')\n",
    "arduino.init()\n",
    "arduino.set_motor_dir(1,0)\n",
    "arduino.set_encoder_dir(1,0)"
   ]
  },
  {
   "cell_type": "markdown",
   "metadata": {},
   "source": [
    "## 初始化图像通路\n",
    "\n",
    "图像的输出将使用VDMA实现，这里使用pynq的默认驱动。执行完下列代码后HDMI接口将输出摄像头读取到的图像。"
   ]
  },
  {
   "cell_type": "code",
   "execution_count": 3,
   "metadata": {},
   "outputs": [],
   "source": [
    "OV5640 = overlay.OV5640\n",
    "video_proc = overlay.video_proc\n",
    "hdmi_out = overlay.video_output.axi_vdma.writechannel\n",
    "hdmi_out.mode = VideoMode(1280,720,32)\n",
    "OV5640.set_rgba()\n",
    "OV5640.readchannel.tie(hdmi_out)\n",
    "hdmi_out.start()"
   ]
  },
  {
   "cell_type": "markdown",
   "metadata": {},
   "source": [
    "## 启动颜色识别和追踪\n",
    "\n",
    "HDMI将输出识别结果，可以用于调试参数。舵机会随着识别出来的横坐标转动。"
   ]
  },
  {
   "cell_type": "code",
   "execution_count": 4,
   "metadata": {},
   "outputs": [
    {
     "ename": "KeyboardInterrupt",
     "evalue": "",
     "output_type": "error",
     "traceback": [
      "\u001b[0;31m---------------------------------------------------------------------------\u001b[0m",
      "\u001b[0;31mKeyboardInterrupt\u001b[0m                         Traceback (most recent call last)",
      "\u001b[0;32m<ipython-input-4-98cf92247cd4>\u001b[0m in \u001b[0;36m<module>\u001b[0;34m()\u001b[0m\n\u001b[1;32m     15\u001b[0m \u001b[0;32mwhile\u001b[0m \u001b[0;32mTrue\u001b[0m\u001b[0;34m:\u001b[0m\u001b[0;34m\u001b[0m\u001b[0m\n\u001b[1;32m     16\u001b[0m     \u001b[0msrc\u001b[0m \u001b[0;34m=\u001b[0m \u001b[0mOV5640\u001b[0m\u001b[0;34m.\u001b[0m\u001b[0mget_cam_frame\u001b[0m\u001b[0;34m(\u001b[0m\u001b[0;34m)\u001b[0m\u001b[0;34m\u001b[0m\u001b[0m\n\u001b[0;32m---> 17\u001b[0;31m     \u001b[0mposX\u001b[0m\u001b[0;34m,\u001b[0m\u001b[0mposY\u001b[0m\u001b[0;34m,\u001b[0m\u001b[0mwidthX\u001b[0m\u001b[0;34m,\u001b[0m\u001b[0mwidthY\u001b[0m \u001b[0;34m=\u001b[0m \u001b[0mvideo_proc\u001b[0m\u001b[0;34m.\u001b[0m\u001b[0mColorDetect\u001b[0m\u001b[0;34m(\u001b[0m\u001b[0msrc\u001b[0m\u001b[0;34m,\u001b[0m\u001b[0mH_low\u001b[0m\u001b[0;34m,\u001b[0m\u001b[0mH_high\u001b[0m\u001b[0;34m,\u001b[0m\u001b[0mS_low\u001b[0m\u001b[0;34m,\u001b[0m\u001b[0mS_high\u001b[0m\u001b[0;34m,\u001b[0m\u001b[0mV_low\u001b[0m\u001b[0;34m,\u001b[0m\u001b[0mV_high\u001b[0m\u001b[0;34m)\u001b[0m\u001b[0;34m\u001b[0m\u001b[0m\n\u001b[0m\u001b[1;32m     18\u001b[0m     \u001b[0;32mif\u001b[0m \u001b[0;34m(\u001b[0m\u001b[0mwidthX\u001b[0m \u001b[0;34m>\u001b[0m \u001b[0;36m50\u001b[0m \u001b[0;32mand\u001b[0m \u001b[0mwidthY\u001b[0m \u001b[0;34m>\u001b[0m \u001b[0;36m50\u001b[0m\u001b[0;34m)\u001b[0m\u001b[0;34m:\u001b[0m\u001b[0;34m\u001b[0m\u001b[0m\n\u001b[1;32m     19\u001b[0m         \u001b[0mx0\u001b[0m \u001b[0;34m=\u001b[0m \u001b[0mposX\u001b[0m \u001b[0;34m-\u001b[0m \u001b[0;34m(\u001b[0m\u001b[0mwidthX\u001b[0m\u001b[0;34m>>\u001b[0m\u001b[0;36m1\u001b[0m\u001b[0;34m)\u001b[0m\u001b[0;34m\u001b[0m\u001b[0m\n",
      "\u001b[0;32m/usr/local/lib/python3.6/dist-packages/PYNQ_Car/Video_proc/video_proc.py\u001b[0m in \u001b[0;36mColorDetect\u001b[0;34m(self, frame, H_low, H_high, S_low, S_high, V_low, V_high)\u001b[0m\n\u001b[1;32m    105\u001b[0m         \u001b[0mself\u001b[0m\u001b[0;34m.\u001b[0m\u001b[0msetColor_Detect\u001b[0m\u001b[0;34m(\u001b[0m\u001b[0mH_low\u001b[0m\u001b[0;34m,\u001b[0m\u001b[0mH_high\u001b[0m\u001b[0;34m,\u001b[0m\u001b[0mS_low\u001b[0m\u001b[0;34m,\u001b[0m\u001b[0mS_high\u001b[0m\u001b[0;34m,\u001b[0m\u001b[0mV_low\u001b[0m\u001b[0;34m,\u001b[0m\u001b[0mV_high\u001b[0m\u001b[0;34m)\u001b[0m\u001b[0;34m\u001b[0m\u001b[0m\n\u001b[1;32m    106\u001b[0m         \u001b[0mself\u001b[0m\u001b[0;34m.\u001b[0m\u001b[0m_sendchannel\u001b[0m\u001b[0;34m.\u001b[0m\u001b[0mtransfer\u001b[0m\u001b[0;34m(\u001b[0m\u001b[0mframe\u001b[0m\u001b[0;34m)\u001b[0m\u001b[0;34m\u001b[0m\u001b[0m\n\u001b[0;32m--> 107\u001b[0;31m         \u001b[0;32mwhile\u001b[0m \u001b[0;32mnot\u001b[0m \u001b[0;34m(\u001b[0m\u001b[0mself\u001b[0m\u001b[0;34m.\u001b[0m\u001b[0mcolor_detect_core\u001b[0m\u001b[0;34m.\u001b[0m\u001b[0mread\u001b[0m\u001b[0;34m(\u001b[0m\u001b[0;36m0x38\u001b[0m\u001b[0;34m)\u001b[0m \u001b[0;34m&\u001b[0m \u001b[0;36m0x01\u001b[0m\u001b[0;34m)\u001b[0m\u001b[0;34m:\u001b[0m\u001b[0;34m\u001b[0m\u001b[0m\n\u001b[0m\u001b[1;32m    108\u001b[0m             \u001b[0;32mpass\u001b[0m\u001b[0;34m\u001b[0m\u001b[0m\n\u001b[1;32m    109\u001b[0m         \u001b[0mposX\u001b[0m \u001b[0;34m=\u001b[0m \u001b[0mself\u001b[0m\u001b[0;34m.\u001b[0m\u001b[0mcolor_detect_core\u001b[0m\u001b[0;34m.\u001b[0m\u001b[0mread\u001b[0m\u001b[0;34m(\u001b[0m\u001b[0;36m0x28\u001b[0m\u001b[0;34m)\u001b[0m\u001b[0;34m\u001b[0m\u001b[0m\n",
      "\u001b[0;32m/usr/local/lib/python3.6/dist-packages/pynq/overlay.py\u001b[0m in \u001b[0;36mread\u001b[0;34m(self, offset)\u001b[0m\n\u001b[1;32m    699\u001b[0m \u001b[0;34m\u001b[0m\u001b[0m\n\u001b[1;32m    700\u001b[0m         \"\"\"\n\u001b[0;32m--> 701\u001b[0;31m         \u001b[0;32mreturn\u001b[0m \u001b[0mself\u001b[0m\u001b[0;34m.\u001b[0m\u001b[0mmmio\u001b[0m\u001b[0;34m.\u001b[0m\u001b[0mread\u001b[0m\u001b[0;34m(\u001b[0m\u001b[0moffset\u001b[0m\u001b[0;34m)\u001b[0m\u001b[0;34m\u001b[0m\u001b[0m\n\u001b[0m\u001b[1;32m    702\u001b[0m \u001b[0;34m\u001b[0m\u001b[0m\n\u001b[1;32m    703\u001b[0m     \u001b[0;32mdef\u001b[0m \u001b[0mwrite\u001b[0m\u001b[0;34m(\u001b[0m\u001b[0mself\u001b[0m\u001b[0;34m,\u001b[0m \u001b[0moffset\u001b[0m\u001b[0;34m,\u001b[0m \u001b[0mvalue\u001b[0m\u001b[0;34m)\u001b[0m\u001b[0;34m:\u001b[0m\u001b[0;34m\u001b[0m\u001b[0m\n",
      "\u001b[0;32m/usr/local/lib/python3.6/dist-packages/pynq/mmio.py\u001b[0m in \u001b[0;36mread_mm\u001b[0;34m(self, offset, length)\u001b[0m\n\u001b[1;32m    141\u001b[0m \u001b[0;34m\u001b[0m\u001b[0m\n\u001b[1;32m    142\u001b[0m         \u001b[0;31m# Read data out\u001b[0m\u001b[0;34m\u001b[0m\u001b[0;34m\u001b[0m\u001b[0m\n\u001b[0;32m--> 143\u001b[0;31m         \u001b[0;32mreturn\u001b[0m \u001b[0mint\u001b[0m\u001b[0;34m(\u001b[0m\u001b[0mself\u001b[0m\u001b[0;34m.\u001b[0m\u001b[0marray\u001b[0m\u001b[0;34m[\u001b[0m\u001b[0midx\u001b[0m\u001b[0;34m]\u001b[0m\u001b[0;34m)\u001b[0m\u001b[0;34m\u001b[0m\u001b[0m\n\u001b[0m\u001b[1;32m    144\u001b[0m \u001b[0;34m\u001b[0m\u001b[0m\n\u001b[1;32m    145\u001b[0m     \u001b[0;32mdef\u001b[0m \u001b[0mwrite_mm\u001b[0m\u001b[0;34m(\u001b[0m\u001b[0mself\u001b[0m\u001b[0;34m,\u001b[0m \u001b[0moffset\u001b[0m\u001b[0;34m,\u001b[0m \u001b[0mdata\u001b[0m\u001b[0;34m)\u001b[0m\u001b[0;34m:\u001b[0m\u001b[0;34m\u001b[0m\u001b[0m\n",
      "\u001b[0;31mKeyboardInterrupt\u001b[0m: "
     ]
    }
   ],
   "source": [
    "x0 = 0\n",
    "y0 = 0\n",
    "x1 = 0\n",
    "y1 = 0\n",
    "H_low  = 0\n",
    "H_high = 17\n",
    "S_low = 60\n",
    "S_high = 255\n",
    "V_low = 50\n",
    "V_high = 255\n",
    "servo_ctr_p = 0.07\n",
    "arduino.set_velocity(300)\n",
    "angle = 0.0\n",
    "arduino.set_servo_angle(angle)\n",
    "while True:\n",
    "    src = OV5640.get_cam_frame()\n",
    "    posX,posY,widthX,widthY = video_proc.ColorDetect(src,H_low,H_high,S_low,S_high,V_low,V_high)\n",
    "    if (widthX > 50 and widthY > 50):\n",
    "        x0 = posX - (widthX>>1)\n",
    "        y0 = posY - (widthY>>1)\n",
    "        x1 = posX + (widthX>>1)\n",
    "        y1 = posY + (widthY>>1)\n",
    "        angle = float((posX-640)*servo_ctr_p)\n",
    "    cv2.rectangle(src,(x0,y0),(x1,y1),(0,255,0,0),2)\n",
    "    arduino.set_servo_angle(angle)\n",
    "    hdmi_out.writeframe(src)"
   ]
  },
  {
   "cell_type": "markdown",
   "metadata": {},
   "source": [
    "### 结束并停止一切功能"
   ]
  },
  {
   "cell_type": "code",
   "execution_count": 5,
   "metadata": {},
   "outputs": [],
   "source": [
    "arduino.set_velocity(0)\n",
    "arduino.set_servo_angle(0.0)\n",
    "hdmi_out.stop()\n",
    "OV5640.stop()\n",
    "video_proc.stop()"
   ]
  }
 ],
 "metadata": {
  "kernelspec": {
   "display_name": "Python 3",
   "language": "python",
   "name": "python3"
  },
  "language_info": {
   "codemirror_mode": {
    "name": "ipython",
    "version": 3
   },
   "file_extension": ".py",
   "mimetype": "text/x-python",
   "name": "python",
   "nbconvert_exporter": "python",
   "pygments_lexer": "ipython3",
   "version": "3.6.5"
  }
 },
 "nbformat": 4,
 "nbformat_minor": 2
}
